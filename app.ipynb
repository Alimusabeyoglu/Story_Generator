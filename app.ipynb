{
 "cells": [
  {
   "cell_type": "code",
   "execution_count": 1,
   "metadata": {},
   "outputs": [
    {
     "data": {
      "text/plain": [
       "True"
      ]
     },
     "execution_count": 1,
     "metadata": {},
     "output_type": "execute_result"
    }
   ],
   "source": [
    "from dotenv import load_dotenv\n",
    "\n",
    "load_dotenv(override=True)  "
   ]
  },
  {
   "cell_type": "code",
   "execution_count": 2,
   "metadata": {},
   "outputs": [],
   "source": [
    "import os \n",
    "import openai\n",
    "\n",
    "openai_api_key = os.getenv(\"OPENAI_API_KEY\")\n",
    "openai.api_key = openai_api_key"
   ]
  },
  {
   "cell_type": "code",
   "execution_count": 3,
   "metadata": {},
   "outputs": [],
   "source": [
    "from openai import OpenAI \n",
    "client = OpenAI()"
   ]
  },
  {
   "cell_type": "code",
   "execution_count": 4,
   "metadata": {},
   "outputs": [],
   "source": [
    "def ask_chatgpt(messages):\n",
    "    response = client.chat.completions.create(\n",
    "        model = \"gpt-3.5-turbo\",\n",
    "        messages = messages,\n",
    "    )\n",
    "    return (response.choices[0].message.content)"
   ]
  },
  {
   "cell_type": "code",
   "execution_count": 8,
   "metadata": {},
   "outputs": [],
   "source": [
    "propmt_role = \"You are a writer. \\\n",
    "    You generate story for children \\\n",
    "    Consider the following as the instructions: TONE, LENGTH, STYLE, and LANGUAGE.\""
   ]
  },
  {
   "cell_type": "code",
   "execution_count": 9,
   "metadata": {},
   "outputs": [],
   "source": [
    "from typing import List\n",
    "\n",
    "def new_generator(\n",
    "    facts: List[str], tone: str, length_words: int, style: str, language: str,\n",
    "):\n",
    "    facts: \",\".join(facts)\n",
    "    prompt = f\"{propmt_role} \\\n",
    "        FACTS : {facts} \\\n",
    "        TONE: {tone} \\\n",
    "        LENGTH: {length_words} words \\\n",
    "        STYLE: {style} \\\n",
    "        LANGUAGE: {language}\"\n",
    "    return ask_chatgpt([\n",
    "        {\"role\":\"user\", \"content\": prompt}\n",
    "    ])"
   ]
  },
  {
   "cell_type": "code",
   "execution_count": 11,
   "metadata": {},
   "outputs": [
    {
     "name": "stdout",
     "output_type": "stream",
     "text": [
      "Once upon a time in an old kingdom, there was a fierce dragon who ruled over the land. The villagers lived in fear until a brave princess decided to face the dragon. Armed with just her courage and determination, she set out on a quest to defeat the fierce beast. \n",
      "\n",
      "After a long and challenging battle, the princess emerged victorious, and the dragon was finally defeated. The kingdom rejoiced and celebrated the brave princess who had saved them all.\n",
      "\n",
      "And so, the princess became a hero, forever remembered for her fearless courage in facing the mighty dragon.\n"
     ]
    }
   ],
   "source": [
    "print(\n",
    "    new_generator(\n",
    "        [\"dragon,old time,princes\"], \"informal\", 100, \"story\", \"english\"\n",
    "    )\n",
    ")"
   ]
  }
 ],
 "metadata": {
  "kernelspec": {
   "display_name": "Python 3",
   "language": "python",
   "name": "python3"
  },
  "language_info": {
   "codemirror_mode": {
    "name": "ipython",
    "version": 3
   },
   "file_extension": ".py",
   "mimetype": "text/x-python",
   "name": "python",
   "nbconvert_exporter": "python",
   "pygments_lexer": "ipython3",
   "version": "3.11.9"
  }
 },
 "nbformat": 4,
 "nbformat_minor": 2
}
